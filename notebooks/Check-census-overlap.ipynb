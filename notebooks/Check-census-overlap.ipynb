{
 "cells": [
  {
   "cell_type": "code",
   "execution_count": 7,
   "metadata": {},
   "outputs": [
    {
     "name": "stderr",
     "output_type": "stream",
     "text": [
      "/Users/cl/.pyenv/versions/3.7.5/lib/python3.7/site-packages/tqdm/std.py:703: FutureWarning: The Panel class is removed from pandas. Accessing it from the top-level namespace will also be removed in the next version\n",
      "  from pandas import Panel\n"
     ]
    }
   ],
   "source": [
    "import numpy as np\n",
    "\n",
    "import pandas as pd\n",
    "\n",
    "import diffprivlib.tools as dp\n",
    "\n",
    "from sklearn.preprocessing import LabelEncoder\n",
    "\n",
    "from tqdm.notebook import trange\n",
    "from tqdm import tqdm\n",
    "tqdm.pandas()\n",
    "\n",
    "import matplotlib.pyplot as plt\n",
    "%matplotlib inline"
   ]
  },
  {
   "cell_type": "code",
   "execution_count": 8,
   "metadata": {},
   "outputs": [],
   "source": [
    "na_values={\n",
    "    'capital-gain': 99999,\n",
    "    'capital-loss': 99999,\n",
    "    'hours-per-week': 99,\n",
    "    'workclass': '?',\n",
    "    'native-country': '?',\n",
    "    'occupation': '?'}\n",
    "\n",
    "private_df = pd.read_csv('./data/adult_with_no_native_country.csv',\n",
    "                         skipinitialspace=True,\n",
    "                         na_values=na_values)\n",
    "private_df.set_index('index', inplace=True)\n",
    "\n",
    "synthetic_df = pd.read_csv('./out/correlated_attribute_mode/sythetic_data.csv',\n",
    "                           skipinitialspace=True)\n",
    "synthetic_df.set_index('index', inplace=True)\n"
   ]
  },
  {
   "cell_type": "code",
   "execution_count": 9,
   "metadata": {},
   "outputs": [
    {
     "data": {
      "text/plain": [
       "array(['workclass', 'education', 'martial-status', 'occupation',\n",
       "       'relationship', 'race', 'sex', 'income'], dtype=object)"
      ]
     },
     "execution_count": 9,
     "metadata": {},
     "output_type": "execute_result"
    }
   ],
   "source": [
    "categorical_attributes = private_df.dtypes.loc[private_df.dtypes=='O'].index.values\n",
    "numerical_attributes = [col for col in private_df.columns if col not in categorical_attributes]\n",
    "categorical_attributes"
   ]
  },
  {
   "cell_type": "code",
   "execution_count": 10,
   "metadata": {},
   "outputs": [
    {
     "data": {
      "text/plain": [
       "0"
      ]
     },
     "execution_count": 10,
     "metadata": {},
     "output_type": "execute_result"
    }
   ],
   "source": [
    "(pd.merge(private_df, synthetic_df,\n",
    "         on=list(private_df.columns.values),\n",
    "         how='left',\n",
    "         indicator='Exists').Exists=='both').sum()"
   ]
  },
  {
   "cell_type": "code",
   "execution_count": 11,
   "metadata": {},
   "outputs": [],
   "source": [
    "for col in categorical_attributes:\n",
    "    le = LabelEncoder()\n",
    "    private_df[col] = le.fit_transform(private_df[col].fillna('unk'))\n",
    "    synthetic_df[col] = le.transform(synthetic_df[col].fillna('unk'))"
   ]
  },
  {
   "cell_type": "code",
   "execution_count": 15,
   "metadata": {},
   "outputs": [
    {
     "data": {
      "application/vnd.jupyter.widget-view+json": {
       "model_id": "701ebc5f74364898b3fab9ab2b2e581c",
       "version_major": 2,
       "version_minor": 0
      },
      "text/plain": [
       "HBox(children=(HTML(value=''), FloatProgress(value=0.0, max=48842.0), HTML(value='')))"
      ]
     },
     "metadata": {},
     "output_type": "display_data"
    },
    {
     "name": "stdout",
     "output_type": "stream",
     "text": [
      "\n"
     ]
    }
   ],
   "source": [
    "def get_overlap(row, other, ncols):\n",
    "    rst = row == other\n",
    "    rst = rst.sum(axis=1)\n",
    "    rst = rst * 100 / ncols\n",
    "    return min(rst), np.mean(rst), max(rst)\n",
    "\n",
    "priv_np = private_df.values\n",
    "ncols = priv_np.shape[1]\n",
    "synth_np = synthetic_df.values\n",
    "\n",
    "overlap = []\n",
    "for n in trange(priv_np.shape[0]):\n",
    "    row = priv_np[n,:]\n",
    "    overlap.append(get_overlap(row, synth_np, ncols))"
   ]
  },
  {
   "cell_type": "code",
   "execution_count": 30,
   "metadata": {},
   "outputs": [
    {
     "data": {
      "text/plain": [
       "<AxesSubplot:>"
      ]
     },
     "execution_count": 30,
     "metadata": {},
     "output_type": "execute_result"
    },
    {
     "data": {
      "image/png": "[encoded data removed]",
      "text/plain": [
       "<Figure size 432x288 with 1 Axes>"
      ]
     },
     "metadata": {
      "needs_background": "light"
     },
     "output_type": "display_data"
    }
   ],
   "source": [
    "pd.DataFrame(np.vstack(overlap), columns=['min', 'mean', 'max']).plot()"
   ]
  },
  {
   "cell_type": "code",
   "execution_count": null,
   "metadata": {},
   "outputs": [],
   "source": []
  },
  {
   "cell_type": "code",
   "execution_count": 100,
   "metadata": {},
   "outputs": [
    {
     "data": {
      "text/plain": [
       "<AxesSubplot:>"
      ]
     },
     "execution_count": 100,
     "metadata": {},
     "output_type": "execute_result"
    },
    {
     "data": {
      "image/png": "[encoded data removed]",
      "text/plain": [
       "<Figure size 432x288 with 1 Axes>"
      ]
     },
     "metadata": {
      "needs_background": "light"
     },
     "output_type": "display_data"
    }
   ],
   "source": [
    "p_cols = []\n",
    "for name, target in private_df.loc[:2000,:].iterrows():\n",
    "    p_col = []\n",
    "    for col in target.index:\n",
    "        # print(col)\n",
    "        cnt = private_df[col].loc[private_df[col]==target[col]].shape[0]\n",
    "        if cnt == 0:\n",
    "            p = 0\n",
    "        else:\n",
    "            p = 1 / cnt\n",
    "        p_col.append(p)\n",
    "    p_cols.append(p_col)\n",
    "pd.Series(np.vstack(p_cols).sum(axis=1) / target.shape[0]).plot()"
   ]
  },
  {
   "cell_type": "code",
   "execution_count": 95,
   "metadata": {},
   "outputs": [
    {
     "data": {
      "text/plain": [
       "14"
      ]
     },
     "execution_count": 95,
     "metadata": {},
     "output_type": "execute_result"
    }
   ],
   "source": []
  },
  {
   "cell_type": "code",
   "execution_count": 98,
   "metadata": {},
   "outputs": [
    {
     "data": {
      "text/plain": [
       "<AxesSubplot:>"
      ]
     },
     "execution_count": 98,
     "metadata": {},
     "output_type": "execute_result"
    },
    {
     "data": {
      "image/png": "[encoded data removed]",
      "text/plain": [
       "<Figure size 432x288 with 1 Axes>"
      ]
     },
     "metadata": {
      "needs_background": "light"
     },
     "output_type": "display_data"
    }
   ],
   "source": [
    "p_cols = []\n",
    "for name, target in private_df.loc[:50,:].iterrows():\n",
    "    p_col = []\n",
    "    for col in target.index:\n",
    "        # print(col)\n",
    "        cnt = synthetic_df[col].loc[synthetic_df[col]==target[col]].shape[0]\n",
    "        if cnt == 0:\n",
    "            p = 0\n",
    "        else:\n",
    "            p = 1 / cnt\n",
    "        p_col.append(p)\n",
    "    p_cols.append(p_col)\n",
    "pd.Series(np.vstack(p_cols).sum(axis=1) / target.shape[0]).plot()"
   ]
  }
 ],
 "metadata": {
  "kernelspec": {
   "display_name": "Python 3",
   "language": "python",
   "name": "python3"
  },
  "language_info": {
   "codemirror_mode": {
    "name": "ipython",
    "version": 3
   },
   "file_extension": ".py",
   "mimetype": "text/x-python",
   "name": "python",
   "nbconvert_exporter": "python",
   "pygments_lexer": "ipython3",
   "version": "3.7.5"
  }
 },
 "nbformat": 4,
 "nbformat_minor": 2
}
