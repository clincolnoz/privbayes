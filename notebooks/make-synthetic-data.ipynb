{
 "cells": [
  {
   "cell_type": "code",
   "execution_count": 1,
   "metadata": {},
   "outputs": [],
   "source": [
    "\n",
    "import pandas as pd\n",
    "\n",
    "from sklearn.datasets import make_classification\n",
    "\n"
   ]
  },
  {
   "cell_type": "code",
   "execution_count": 57,
   "metadata": {},
   "outputs": [
    {
     "data": {
      "text/plain": [
       "'synth_100000_25_10_5_5_10_0_20.csv'"
      ]
     },
     "execution_count": 57,
     "metadata": {},
     "output_type": "execute_result"
    }
   ],
   "source": [
    "n_samples = int(1e5)\n",
    "n_features = 25\n",
    "n_informative = 10\n",
    "n_redundant = 5\n",
    "n_repeated = 5\n",
    "n_classes = 10\n",
    "ncat = 0\n",
    "nbins = 20\n",
    "\n",
    "filename = 'synth_' + '_'.join([str(x) for x in [n_samples, n_features, n_informative, n_redundant, n_repeated, n_classes, ncat, nbins]]) + '.csv'\n",
    "filename"
   ]
  },
  {
   "cell_type": "code",
   "execution_count": 58,
   "metadata": {},
   "outputs": [],
   "source": [
    "data = make_classification(n_samples=n_samples,\n",
    "                            n_features=n_features,\n",
    "                            n_informative=n_informative,\n",
    "                            n_redundant=n_redundant,\n",
    "                            n_repeated=n_repeated,\n",
    "                            n_classes=n_classes,\n",
    "                            n_clusters_per_class=2,\n",
    "                            weights=None,\n",
    "                            flip_y=0.01,\n",
    "                            class_sep=2.0,\n",
    "                            hypercube=True,\n",
    "                            shift=0.0,\n",
    "                            scale=1.0,\n",
    "                            shuffle=True,\n",
    "                            random_state=None)\n",
    "\n",
    "df = pd.DataFrame(data[0])\n",
    "df.columns = [str(c) for c in df.columns]\n",
    "df['y'] = data[1]\n",
    "\n",
    "# add cats\n",
    "#categorical_cols = {}\n",
    "for col in df.columns.values[:ncat]:\n",
    "    df[col] = pd.cut(df[col], nbins)#.value_counts().plot.bar(logy=True)\n",
    "    #categorical_cols[col] = True\n",
    "\n",
    "df.to_csv('./data/' + filename, index=False)"
   ]
  },
  {
   "cell_type": "code",
   "execution_count": 3,
   "metadata": {},
   "outputs": [
    {
     "data": {
      "text/plain": [
       "1000000"
      ]
     },
     "execution_count": 3,
     "metadata": {},
     "output_type": "execute_result"
    }
   ],
   "source": [
    "int(1e6)"
   ]
  }
 ],
 "metadata": {
  "kernelspec": {
   "display_name": "Python 3",
   "language": "python",
   "name": "python3"
  },
  "language_info": {
   "codemirror_mode": {
    "name": "ipython",
    "version": 3
   },
   "file_extension": ".py",
   "mimetype": "text/x-python",
   "name": "python",
   "nbconvert_exporter": "python",
   "pygments_lexer": "ipython3",
   "version": "3.7.5"
  }
 },
 "nbformat": 4,
 "nbformat_minor": 2
}
